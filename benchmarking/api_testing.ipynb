{
 "cells": [
  {
   "cell_type": "markdown",
   "metadata": {},
   "source": [
    "# Azure Backend API Testing\n",
    "\n",
    "This notebook allows direct testing of the Azure backend API endpoints."
   ]
  },
  {
   "cell_type": "code",
   "execution_count": 1,
   "metadata": {},
   "outputs": [],
   "source": [
    "import requests\n",
    "import json\n",
    "import pandas as pd\n",
    "from datetime import datetime\n",
    "import time"
   ]
  },
  {
   "cell_type": "code",
   "execution_count": 2,
   "metadata": {},
   "outputs": [],
   "source": [
    "# Configuration\n",
    "BASE_URL = \"https://your-azure-backend-url.com\"  # Replace with your actual Azure URL\n",
    "API_KEY = \"your-api-key\"  # Replace with your actual API key\n",
    "\n",
    "# Headers - API key goes in X-Stainless-API-Key header for this backend\n",
    "headers = {\n",
    "    \"Content-Type\": \"application/json\",\n",
    "    \"X-Stainless-API-Key\": API_KEY if API_KEY else None,\n",
    "}\n",
    "\n",
    "# Remove None values from headers\n",
    "headers = {k: v for k, v in headers.items() if v is not None}"
   ]
  },
  {
   "cell_type": "markdown",
   "metadata": {},
   "source": [
    "## Test Functions"
   ]
  },
  {
   "cell_type": "code",
   "execution_count": 3,
   "metadata": {},
   "outputs": [],
   "source": [
    "def test_endpoint(endpoint, method=\"GET\", data=None, params=None):\n",
    "    \"\"\"\n",
    "    Test an API endpoint and return the response\n",
    "    \"\"\"\n",
    "    url = f\"{BASE_URL.rstrip('/')}/{endpoint.lstrip('/')}\"\n",
    "\n",
    "    print(f\"Testing: {method} {url}\")\n",
    "    print(f\"Headers: {headers}\")\n",
    "\n",
    "    if data:\n",
    "        print(f\"Data: {json.dumps(data, indent=2)}\")\n",
    "\n",
    "    start_time = time.time()\n",
    "\n",
    "    try:\n",
    "        if method.upper() == \"GET\":\n",
    "            response = requests.get(url, headers=headers, params=params)\n",
    "        elif method.upper() == \"POST\":\n",
    "            response = requests.post(url, headers=headers, json=data, params=params)\n",
    "        elif method.upper() == \"PUT\":\n",
    "            response = requests.put(url, headers=headers, json=data, params=params)\n",
    "        elif method.upper() == \"DELETE\":\n",
    "            response = requests.delete(url, headers=headers, params=params)\n",
    "        else:\n",
    "            raise ValueError(f\"Unsupported HTTP method: {method}\")\n",
    "\n",
    "        response_time = time.time() - start_time\n",
    "\n",
    "        print(f\"\\nResponse Status: {response.status_code}\")\n",
    "        print(f\"Response Time: {response_time:.2f}s\")\n",
    "        print(f\"Response Headers: {dict(response.headers)}\")\n",
    "\n",
    "        try:\n",
    "            response_json = response.json()\n",
    "            print(f\"Response Body: {json.dumps(response_json, indent=2)}\")\n",
    "        except json.JSONDecodeError:\n",
    "            print(f\"Response Body (text): {response.text}\")\n",
    "\n",
    "        return {\n",
    "            \"status_code\": response.status_code,\n",
    "            \"response_time\": response_time,\n",
    "            \"response\": response,\n",
    "            \"timestamp\": datetime.now().isoformat(),\n",
    "        }\n",
    "\n",
    "    except requests.exceptions.RequestException as e:\n",
    "        print(f\"Request failed: {e}\")\n",
    "        return {\"error\": str(e), \"timestamp\": datetime.now().isoformat()}"
   ]
  },
  {
   "cell_type": "markdown",
   "metadata": {},
   "source": [
    "## Health Check"
   ]
  },
  {
   "cell_type": "code",
   "execution_count": 4,
   "metadata": {},
   "outputs": [
    {
     "name": "stdout",
     "output_type": "stream",
     "text": [
      "Testing: GET https://your-azure-backend-url.com/health\n",
      "Headers: {'Content-Type': 'application/json', 'X-Stainless-API-Key': 'your-api-key'}\n",
      "Request failed: HTTPSConnectionPool(host='your-azure-backend-url.com', port=443): Max retries exceeded with url: /health (Caused by NameResolutionError(\"<urllib3.connection.HTTPSConnection object at 0x116e4e990>: Failed to resolve 'your-azure-backend-url.com' ([Errno 8] nodename nor servname provided, or not known)\"))\n"
     ]
    },
    {
     "data": {
      "text/plain": [
       "{'error': 'HTTPSConnectionPool(host=\\'your-azure-backend-url.com\\', port=443): Max retries exceeded with url: /health (Caused by NameResolutionError(\"<urllib3.connection.HTTPSConnection object at 0x116e4e990>: Failed to resolve \\'your-azure-backend-url.com\\' ([Errno 8] nodename nor servname provided, or not known)\"))',\n",
       " 'timestamp': '2025-07-07T23:01:09.067098'}"
      ]
     },
     "execution_count": 4,
     "metadata": {},
     "output_type": "execute_result"
    }
   ],
   "source": [
    "# Test health endpoint\n",
    "health_result = test_endpoint(\"/health\")\n",
    "health_result"
   ]
  },
  {
   "cell_type": "markdown",
   "metadata": {},
   "source": [
    "## API Endpoints Testing"
   ]
  },
  {
   "cell_type": "code",
   "execution_count": 5,
   "metadata": {},
   "outputs": [
    {
     "name": "stdout",
     "output_type": "stream",
     "text": [
      "Testing: POST https://your-azure-backend-url.com/v1/chat/completions\n",
      "Headers: {'Content-Type': 'application/json', 'X-Stainless-API-Key': 'your-api-key'}\n",
      "Data: {\n",
      "  \"messages\": [\n",
      "    {\n",
      "      \"role\": \"user\",\n",
      "      \"content\": \"Hello! Can you help me test this API?\"\n",
      "    }\n",
      "  ],\n",
      "  \"model\": \"gpt-4\",\n",
      "  \"temperature\": 0.7,\n",
      "  \"max_tokens\": 100,\n",
      "  \"provider_constraint\": [\n",
      "    \"openai\",\n",
      "    \"anthropic\"\n",
      "  ],\n",
      "  \"cost_bias\": 0.5\n",
      "}\n",
      "Request failed: HTTPSConnectionPool(host='your-azure-backend-url.com', port=443): Max retries exceeded with url: /v1/chat/completions (Caused by NameResolutionError(\"<urllib3.connection.HTTPSConnection object at 0x1135b8110>: Failed to resolve 'your-azure-backend-url.com' ([Errno 8] nodename nor servname provided, or not known)\"))\n"
     ]
    },
    {
     "data": {
      "text/plain": [
       "{'error': 'HTTPSConnectionPool(host=\\'your-azure-backend-url.com\\', port=443): Max retries exceeded with url: /v1/chat/completions (Caused by NameResolutionError(\"<urllib3.connection.HTTPSConnection object at 0x1135b8110>: Failed to resolve \\'your-azure-backend-url.com\\' ([Errno 8] nodename nor servname provided, or not known)\"))',\n",
       " 'timestamp': '2025-07-07T23:01:09.084480'}"
      ]
     },
     "execution_count": 5,
     "metadata": {},
     "output_type": "execute_result"
    }
   ],
   "source": [
    "# Chat Completions API - Main LLM endpoint\n",
    "chat_data = {\n",
    "    \"messages\": [{\"role\": \"user\", \"content\": \"Hello! Can you help me test this API?\"}],\n",
    "    \"model\": \"gpt-4\",\n",
    "    \"temperature\": 0.7,\n",
    "    \"max_tokens\": 100,\n",
    "    \"provider_constraint\": [\"openai\", \"anthropic\"],\n",
    "    \"cost_bias\": 0.5,\n",
    "}\n",
    "\n",
    "chat_result = test_endpoint(\"/v1/chat/completions\", method=\"POST\", data=chat_data)\n",
    "chat_result"
   ]
  },
  {
   "cell_type": "code",
   "execution_count": 6,
   "metadata": {},
   "outputs": [
    {
     "name": "stdout",
     "output_type": "stream",
     "text": [
      "Testing: POST https://your-azure-backend-url.com/api/your-endpoint\n",
      "Headers: {'Content-Type': 'application/json', 'X-Stainless-API-Key': 'your-api-key'}\n",
      "Data: {\n",
      "  \"key\": \"value\",\n",
      "  \"timestamp\": \"2025-07-07T23:18:26.449774\"\n",
      "}\n",
      "Request failed: HTTPSConnectionPool(host='your-azure-backend-url.com', port=443): Max retries exceeded with url: /api/your-endpoint (Caused by NameResolutionError(\"<urllib3.connection.HTTPSConnection object at 0x15e9a1ee0>: Failed to resolve 'your-azure-backend-url.com' ([Errno 8] nodename nor servname provided, or not known)\"))\n"
     ]
    },
    {
     "data": {
      "text/plain": [
       "{'error': 'HTTPSConnectionPool(host=\\'your-azure-backend-url.com\\', port=443): Max retries exceeded with url: /api/your-endpoint (Caused by NameResolutionError(\"<urllib3.connection.HTTPSConnection object at 0x15e9a1ee0>: Failed to resolve \\'your-azure-backend-url.com\\' ([Errno 8] nodename nor servname provided, or not known)\"))',\n",
       " 'timestamp': '2025-07-07T23:18:26.493868'}"
      ]
     },
     "execution_count": 6,
     "metadata": {},
     "output_type": "execute_result"
    }
   ],
   "source": [
    "# POST request example\n",
    "post_data = {\"key\": \"value\", \"timestamp\": datetime.now().isoformat()}\n",
    "\n",
    "post_result = test_endpoint(\"/api/your-endpoint\", method=\"POST\", data=post_data)\n",
    "post_result"
   ]
  },
  {
   "cell_type": "markdown",
   "metadata": {},
   "source": [
    "## Batch Testing"
   ]
  },
  {
   "cell_type": "code",
   "execution_count": 7,
   "metadata": {},
   "outputs": [
    {
     "name": "stdout",
     "output_type": "stream",
     "text": [
      "\n",
      "==================================================\n",
      "Testing: Health Check\n",
      "==================================================\n",
      "Testing: GET https://your-azure-backend-url.com/health\n",
      "Headers: {'Content-Type': 'application/json', 'X-Stainless-API-Key': 'your-api-key'}\n",
      "Request failed: HTTPSConnectionPool(host='your-azure-backend-url.com', port=443): Max retries exceeded with url: /health (Caused by NameResolutionError(\"<urllib3.connection.HTTPSConnection object at 0x15e9a3410>: Failed to resolve 'your-azure-backend-url.com' ([Errno 8] nodename nor servname provided, or not known)\"))\n",
      "\n",
      "Result: {'error': 'HTTPSConnectionPool(host=\\'your-azure-backend-url.com\\', port=443): Max retries exceeded with url: /health (Caused by NameResolutionError(\"<urllib3.connection.HTTPSConnection object at 0x15e9a3410>: Failed to resolve \\'your-azure-backend-url.com\\' ([Errno 8] nodename nor servname provided, or not known)\"))', 'timestamp': '2025-07-07T23:18:32.650703', 'test_name': 'Health Check', 'endpoint': '/health', 'method': 'GET'}\n",
      "\n",
      "==================================================\n",
      "Testing: API Endpoint 1\n",
      "==================================================\n",
      "Testing: GET https://your-azure-backend-url.com/api/endpoint1\n",
      "Headers: {'Content-Type': 'application/json', 'X-Stainless-API-Key': 'your-api-key'}\n",
      "Request failed: HTTPSConnectionPool(host='your-azure-backend-url.com', port=443): Max retries exceeded with url: /api/endpoint1 (Caused by NameResolutionError(\"<urllib3.connection.HTTPSConnection object at 0x15e4addf0>: Failed to resolve 'your-azure-backend-url.com' ([Errno 8] nodename nor servname provided, or not known)\"))\n",
      "\n",
      "Result: {'error': 'HTTPSConnectionPool(host=\\'your-azure-backend-url.com\\', port=443): Max retries exceeded with url: /api/endpoint1 (Caused by NameResolutionError(\"<urllib3.connection.HTTPSConnection object at 0x15e4addf0>: Failed to resolve \\'your-azure-backend-url.com\\' ([Errno 8] nodename nor servname provided, or not known)\"))', 'timestamp': '2025-07-07T23:18:32.654885', 'test_name': 'API Endpoint 1', 'endpoint': '/api/endpoint1', 'method': 'GET'}\n",
      "\n",
      "==================================================\n",
      "Testing: API Endpoint 2\n",
      "==================================================\n",
      "Testing: POST https://your-azure-backend-url.com/api/endpoint2\n",
      "Headers: {'Content-Type': 'application/json', 'X-Stainless-API-Key': 'your-api-key'}\n",
      "Data: {\n",
      "  \"test\": \"data\"\n",
      "}\n",
      "Request failed: HTTPSConnectionPool(host='your-azure-backend-url.com', port=443): Max retries exceeded with url: /api/endpoint2 (Caused by NameResolutionError(\"<urllib3.connection.HTTPSConnection object at 0x15e9a13a0>: Failed to resolve 'your-azure-backend-url.com' ([Errno 8] nodename nor servname provided, or not known)\"))\n",
      "\n",
      "Result: {'error': 'HTTPSConnectionPool(host=\\'your-azure-backend-url.com\\', port=443): Max retries exceeded with url: /api/endpoint2 (Caused by NameResolutionError(\"<urllib3.connection.HTTPSConnection object at 0x15e9a13a0>: Failed to resolve \\'your-azure-backend-url.com\\' ([Errno 8] nodename nor servname provided, or not known)\"))', 'timestamp': '2025-07-07T23:18:32.768496', 'test_name': 'API Endpoint 2', 'endpoint': '/api/endpoint2', 'method': 'POST'}\n"
     ]
    }
   ],
   "source": [
    "# Test multiple endpoints\n",
    "endpoints_to_test = [\n",
    "    {\"name\": \"Health Check\", \"endpoint\": \"/health\", \"method\": \"GET\"},\n",
    "    {\"name\": \"API Endpoint 1\", \"endpoint\": \"/api/endpoint1\", \"method\": \"GET\"},\n",
    "    {\n",
    "        \"name\": \"API Endpoint 2\",\n",
    "        \"endpoint\": \"/api/endpoint2\",\n",
    "        \"method\": \"POST\",\n",
    "        \"data\": {\"test\": \"data\"},\n",
    "    },\n",
    "]\n",
    "\n",
    "results = []\n",
    "\n",
    "for test_case in endpoints_to_test:\n",
    "    print(f\"\\n{'='*50}\")\n",
    "    print(f\"Testing: {test_case['name']}\")\n",
    "    print(f\"{'='*50}\")\n",
    "\n",
    "    result = test_endpoint(\n",
    "        test_case[\"endpoint\"], method=test_case[\"method\"], data=test_case.get(\"data\")\n",
    "    )\n",
    "\n",
    "    result[\"test_name\"] = test_case[\"name\"]\n",
    "    result[\"endpoint\"] = test_case[\"endpoint\"]\n",
    "    result[\"method\"] = test_case[\"method\"]\n",
    "\n",
    "    results.append(result)\n",
    "\n",
    "    print(f\"\\nResult: {result}\")"
   ]
  },
  {
   "cell_type": "markdown",
   "metadata": {},
   "source": [
    "## Results Analysis"
   ]
  },
  {
   "cell_type": "code",
   "execution_count": 8,
   "metadata": {},
   "outputs": [
    {
     "name": "stdout",
     "output_type": "stream",
     "text": [
      "Test Results Summary:\n"
     ]
    },
    {
     "ename": "KeyError",
     "evalue": "\"['status_code', 'response_time'] not in index\"",
     "output_type": "error",
     "traceback": [
      "\u001b[0;31m---------------------------------------------------------------------------\u001b[0m",
      "\u001b[0;31mKeyError\u001b[0m                                  Traceback (most recent call last)",
      "Cell \u001b[0;32mIn[8], line 5\u001b[0m\n\u001b[1;32m      3\u001b[0m df \u001b[38;5;241m=\u001b[39m pd\u001b[38;5;241m.\u001b[39mDataFrame(results)\n\u001b[1;32m      4\u001b[0m \u001b[38;5;28mprint\u001b[39m(\u001b[38;5;124m\"\u001b[39m\u001b[38;5;124mTest Results Summary:\u001b[39m\u001b[38;5;124m\"\u001b[39m)\n\u001b[0;32m----> 5\u001b[0m \u001b[38;5;28mprint\u001b[39m(df[[\u001b[38;5;124m'\u001b[39m\u001b[38;5;124mtest_name\u001b[39m\u001b[38;5;124m'\u001b[39m, \u001b[38;5;124m'\u001b[39m\u001b[38;5;124mendpoint\u001b[39m\u001b[38;5;124m'\u001b[39m, \u001b[38;5;124m'\u001b[39m\u001b[38;5;124mmethod\u001b[39m\u001b[38;5;124m'\u001b[39m, \u001b[38;5;124m'\u001b[39m\u001b[38;5;124mstatus_code\u001b[39m\u001b[38;5;124m'\u001b[39m, \u001b[38;5;124m'\u001b[39m\u001b[38;5;124mresponse_time\u001b[39m\u001b[38;5;124m'\u001b[39m, \u001b[38;5;124m'\u001b[39m\u001b[38;5;124mtimestamp\u001b[39m\u001b[38;5;124m'\u001b[39m]])\n\u001b[1;32m      7\u001b[0m \u001b[38;5;66;03m# Save results to CSV\u001b[39;00m\n\u001b[1;32m      8\u001b[0m timestamp \u001b[38;5;241m=\u001b[39m datetime\u001b[38;5;241m.\u001b[39mnow()\u001b[38;5;241m.\u001b[39mstrftime(\u001b[38;5;124m\"\u001b[39m\u001b[38;5;124m%\u001b[39m\u001b[38;5;124mY\u001b[39m\u001b[38;5;124m%\u001b[39m\u001b[38;5;124mm\u001b[39m\u001b[38;5;132;01m%d\u001b[39;00m\u001b[38;5;124m_\u001b[39m\u001b[38;5;124m%\u001b[39m\u001b[38;5;124mH\u001b[39m\u001b[38;5;124m%\u001b[39m\u001b[38;5;124mM\u001b[39m\u001b[38;5;124m%\u001b[39m\u001b[38;5;124mS\u001b[39m\u001b[38;5;124m\"\u001b[39m)\n",
      "File \u001b[0;32m/usr/local/anaconda3/lib/python3.12/site-packages/pandas/core/frame.py:4108\u001b[0m, in \u001b[0;36mDataFrame.__getitem__\u001b[0;34m(self, key)\u001b[0m\n\u001b[1;32m   4106\u001b[0m     \u001b[38;5;28;01mif\u001b[39;00m is_iterator(key):\n\u001b[1;32m   4107\u001b[0m         key \u001b[38;5;241m=\u001b[39m \u001b[38;5;28mlist\u001b[39m(key)\n\u001b[0;32m-> 4108\u001b[0m     indexer \u001b[38;5;241m=\u001b[39m \u001b[38;5;28mself\u001b[39m\u001b[38;5;241m.\u001b[39mcolumns\u001b[38;5;241m.\u001b[39m_get_indexer_strict(key, \u001b[38;5;124m\"\u001b[39m\u001b[38;5;124mcolumns\u001b[39m\u001b[38;5;124m\"\u001b[39m)[\u001b[38;5;241m1\u001b[39m]\n\u001b[1;32m   4110\u001b[0m \u001b[38;5;66;03m# take() does not accept boolean indexers\u001b[39;00m\n\u001b[1;32m   4111\u001b[0m \u001b[38;5;28;01mif\u001b[39;00m \u001b[38;5;28mgetattr\u001b[39m(indexer, \u001b[38;5;124m\"\u001b[39m\u001b[38;5;124mdtype\u001b[39m\u001b[38;5;124m\"\u001b[39m, \u001b[38;5;28;01mNone\u001b[39;00m) \u001b[38;5;241m==\u001b[39m \u001b[38;5;28mbool\u001b[39m:\n",
      "File \u001b[0;32m/usr/local/anaconda3/lib/python3.12/site-packages/pandas/core/indexes/base.py:6200\u001b[0m, in \u001b[0;36mIndex._get_indexer_strict\u001b[0;34m(self, key, axis_name)\u001b[0m\n\u001b[1;32m   6197\u001b[0m \u001b[38;5;28;01melse\u001b[39;00m:\n\u001b[1;32m   6198\u001b[0m     keyarr, indexer, new_indexer \u001b[38;5;241m=\u001b[39m \u001b[38;5;28mself\u001b[39m\u001b[38;5;241m.\u001b[39m_reindex_non_unique(keyarr)\n\u001b[0;32m-> 6200\u001b[0m \u001b[38;5;28mself\u001b[39m\u001b[38;5;241m.\u001b[39m_raise_if_missing(keyarr, indexer, axis_name)\n\u001b[1;32m   6202\u001b[0m keyarr \u001b[38;5;241m=\u001b[39m \u001b[38;5;28mself\u001b[39m\u001b[38;5;241m.\u001b[39mtake(indexer)\n\u001b[1;32m   6203\u001b[0m \u001b[38;5;28;01mif\u001b[39;00m \u001b[38;5;28misinstance\u001b[39m(key, Index):\n\u001b[1;32m   6204\u001b[0m     \u001b[38;5;66;03m# GH 42790 - Preserve name from an Index\u001b[39;00m\n",
      "File \u001b[0;32m/usr/local/anaconda3/lib/python3.12/site-packages/pandas/core/indexes/base.py:6252\u001b[0m, in \u001b[0;36mIndex._raise_if_missing\u001b[0;34m(self, key, indexer, axis_name)\u001b[0m\n\u001b[1;32m   6249\u001b[0m     \u001b[38;5;28;01mraise\u001b[39;00m \u001b[38;5;167;01mKeyError\u001b[39;00m(\u001b[38;5;124mf\u001b[39m\u001b[38;5;124m\"\u001b[39m\u001b[38;5;124mNone of [\u001b[39m\u001b[38;5;132;01m{\u001b[39;00mkey\u001b[38;5;132;01m}\u001b[39;00m\u001b[38;5;124m] are in the [\u001b[39m\u001b[38;5;132;01m{\u001b[39;00maxis_name\u001b[38;5;132;01m}\u001b[39;00m\u001b[38;5;124m]\u001b[39m\u001b[38;5;124m\"\u001b[39m)\n\u001b[1;32m   6251\u001b[0m not_found \u001b[38;5;241m=\u001b[39m \u001b[38;5;28mlist\u001b[39m(ensure_index(key)[missing_mask\u001b[38;5;241m.\u001b[39mnonzero()[\u001b[38;5;241m0\u001b[39m]]\u001b[38;5;241m.\u001b[39munique())\n\u001b[0;32m-> 6252\u001b[0m \u001b[38;5;28;01mraise\u001b[39;00m \u001b[38;5;167;01mKeyError\u001b[39;00m(\u001b[38;5;124mf\u001b[39m\u001b[38;5;124m\"\u001b[39m\u001b[38;5;132;01m{\u001b[39;00mnot_found\u001b[38;5;132;01m}\u001b[39;00m\u001b[38;5;124m not in index\u001b[39m\u001b[38;5;124m\"\u001b[39m)\n",
      "\u001b[0;31mKeyError\u001b[0m: \"['status_code', 'response_time'] not in index\""
     ]
    }
   ],
   "source": [
    "# Convert results to DataFrame for analysis\n",
    "if results:\n",
    "    df = pd.DataFrame(results)\n",
    "    print(\"Test Results Summary:\")\n",
    "    print(\n",
    "        df[\n",
    "            [\n",
    "                \"test_name\",\n",
    "                \"endpoint\",\n",
    "                \"method\",\n",
    "                \"status_code\",\n",
    "                \"response_time\",\n",
    "                \"timestamp\",\n",
    "            ]\n",
    "        ]\n",
    "    )\n",
    "\n",
    "    # Save results to CSV\n",
    "    timestamp = datetime.now().strftime(\"%Y%m%d_%H%M%S\")\n",
    "    filename = f\"api_test_results_{timestamp}.csv\"\n",
    "    df.to_csv(filename, index=False)\n",
    "    print(f\"\\nResults saved to: {filename}\")\n",
    "else:\n",
    "    print(\"No test results to analyze\")"
   ]
  },
  {
   "cell_type": "markdown",
   "metadata": {},
   "source": [
    "## Custom Testing Cell"
   ]
  },
  {
   "cell_type": "code",
   "execution_count": null,
   "metadata": {},
   "outputs": [],
   "source": [
    "# Use this cell for custom API testing\n",
    "# Replace with your specific endpoint and data\n",
    "\n",
    "custom_endpoint = \"/api/your-custom-endpoint\"\n",
    "custom_data = {\n",
    "    # Add your custom data here\n",
    "}\n",
    "\n",
    "custom_result = test_endpoint(custom_endpoint, method=\"POST\", data=custom_data)\n",
    "custom_result"
   ]
  }
 ],
 "metadata": {
  "kernelspec": {
   "display_name": "base",
   "language": "python",
   "name": "python3"
  },
  "language_info": {
   "codemirror_mode": {
    "name": "ipython",
    "version": 3
   },
   "file_extension": ".py",
   "mimetype": "text/x-python",
   "name": "python",
   "nbconvert_exporter": "python",
   "pygments_lexer": "ipython3",
   "version": "3.12.7"
  }
 },
 "nbformat": 4,
 "nbformat_minor": 4
}
